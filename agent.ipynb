{
 "cells": [
  {
   "cell_type": "code",
   "execution_count": 1,
   "metadata": {},
   "outputs": [],
   "source": [
    "# Import relevant functionality\n",
    "import os\n",
    "from langchain_anthropic import ChatAnthropic\n",
    "from langchain_community.tools.tavily_search import TavilySearchResults\n",
    "from langchain_core.messages import HumanMessage\n",
    "from langgraph.checkpoint.memory import MemorySaver\n",
    "from langgraph.prebuilt import create_react_agent\n",
    "from dotenv import load_dotenv\n",
    "\n",
    "load_dotenv()\n",
    "\n",
    "# Create the agent\n",
    "memory = MemorySaver()\n",
    "model = ChatAnthropic(model_name=\"claude-3-5-sonnet-20240620\", api_key=os.getenv(\"ANTHROPIC_API_KEY\"))\n",
    "search = TavilySearchResults(api_key=os.environ[\"TAVILY_API_KEY\"],max_results=2)\n",
    "tools = [search]\n",
    "agent_executor = create_react_agent(model, tools, checkpointer=memory)"
   ]
  },
  {
   "cell_type": "code",
   "execution_count": 2,
   "metadata": {},
   "outputs": [],
   "source": [
    "# Create the agent\n",
    "memory = MemorySaver()\n",
    "model = ChatAnthropic(model_name=\"claude-3-5-sonnet-20240620\", api_key=os.getenv(\"ANTHROPIC_API_KEY\"))\n",
    "search = TavilySearchResults(api_key=os.environ[\"TAVILY_API_KEY\"],max_results=2)\n",
    "tools = [search]\n",
    "agent_executor = create_react_agent(model, tools, checkpointer=memory)"
   ]
  },
  {
   "cell_type": "code",
   "execution_count": 3,
   "metadata": {},
   "outputs": [
    {
     "name": "stdout",
     "output_type": "stream",
     "text": [
      "================================\u001b[1m Human Message \u001b[0m=================================\n",
      "\n",
      "hi im bob! and i live in sf\n",
      "==================================\u001b[1m Ai Message \u001b[0m==================================\n",
      "\n",
      "Hello Bob! It's nice to meet you. I'm glad to know that you live in San Francisco (SF). Is there anything specific you'd like to know about San Francisco or any other topic? I'd be happy to help you with information or answer any questions you might have.\n"
     ]
    }
   ],
   "source": [
    "# Use the agent\n",
    "config = {\"configurable\": {\"thread_id\": \"abc123\"}}\n",
    "for step in agent_executor.stream(\n",
    "    {\"messages\": [HumanMessage(content=\"hi im bob! and i live in sf\")]},\n",
    "    config,\n",
    "    stream_mode=\"values\",\n",
    "):\n",
    "    step[\"messages\"][-1].pretty_print()"
   ]
  },
  {
   "cell_type": "code",
   "execution_count": 4,
   "metadata": {},
   "outputs": [
    {
     "name": "stdout",
     "output_type": "stream",
     "text": [
      "================================\u001b[1m Human Message \u001b[0m=================================\n",
      "\n",
      "whats the weather where I live?\n",
      "==================================\u001b[1m Ai Message \u001b[0m==================================\n",
      "\n",
      "[{'text': \"Certainly, Bob! I'd be happy to help you find out about the current weather in San Francisco. To get the most up-to-date and accurate information, I'll need to use a search tool. Let me do that for you right away.\", 'type': 'text'}, {'id': 'toolu_01EXmwM4QFhAEfLoJxKNDtp1', 'input': {'query': 'current weather in San Francisco'}, 'name': 'tavily_search_results_json', 'type': 'tool_use'}]\n",
      "Tool Calls:\n",
      "  tavily_search_results_json (toolu_01EXmwM4QFhAEfLoJxKNDtp1)\n",
      " Call ID: toolu_01EXmwM4QFhAEfLoJxKNDtp1\n",
      "  Args:\n",
      "    query: current weather in San Francisco\n",
      "=================================\u001b[1m Tool Message \u001b[0m=================================\n",
      "Name: tavily_search_results_json\n",
      "\n",
      "[{\"title\": \"Sunday, July 6, 2025. San Francisco, CA - Weather Forecast\", \"url\": \"https://weathershogun.com/weather/usa/ca/san-francisco/480/july/2025-07-06\", \"content\": \"San Francisco, California Weather: Sunday, July 6, 2025. Cloudy weather, overcast skies with clouds. Day 63°. Night 50°. Precipitation 25 %.\", \"score\": 0.93161833}, {\"title\": \"Saturday, June 7, 2025. San Francisco, CA - Weather Forecast\", \"url\": \"https://weathershogun.com/weather/usa/ca/san-francisco/480/june/2025-06-07\", \"content\": \"San Francisco, California Weather: Saturday, June 7, 2025. Cloudy weather, overcast skies with clouds. Day 68°. Night 54°.\", \"score\": 0.9108078}]\n",
      "==================================\u001b[1m Ai Message \u001b[0m==================================\n",
      "\n",
      "[{'text': \"I apologize, Bob, but it seems the search results are showing forecasts for future dates, which isn't what we're looking for. Let me try another search to get the current weather for you.\", 'type': 'text'}, {'id': 'toolu_013qEeWHLPuiw1ipyNosNT3J', 'input': {'query': 'current weather San Francisco today'}, 'name': 'tavily_search_results_json', 'type': 'tool_use'}]\n",
      "Tool Calls:\n",
      "  tavily_search_results_json (toolu_013qEeWHLPuiw1ipyNosNT3J)\n",
      " Call ID: toolu_013qEeWHLPuiw1ipyNosNT3J\n",
      "  Args:\n",
      "    query: current weather San Francisco today\n",
      "=================================\u001b[1m Tool Message \u001b[0m=================================\n",
      "Name: tavily_search_results_json\n",
      "\n",
      "[{\"title\": \"7-Day Forecast 37.77N 122.41W - National Weather Service\", \"url\": \"https://forecast.weather.gov/MapClick.php?lat=37.7771&lon=-122.4196\", \"content\": \"Current conditions at. SAN FRANCISCO DOWNTOWN (SFOC1). Lat: 37.77056°NLon: 122.42694°WElev: 150.0ft. NA. 63°F. 17°C. Humidity, 65%. Wind Speed, NA NA MPH.\", \"score\": 0.6693348}, {\"title\": \"Hourly forecast for San Francisco, California, USA - Time and Date\", \"url\": \"https://www.timeanddate.com/weather/usa/san-francisco/hourly\", \"content\": \"| 9:00 am |  | 60 °F | Partly cloudy. | 59 °F | 7 mph | ↑ | 81% | 2% | - |\\n| 10:00 am |  | 61 °F | Partly cloudy. | 61 °F | 9 mph | ↑ | 78% | 2% | - |\\n| 11:00 am |  | 62 °F | Partly cloudy. | 62 °F | 10 mph | ↑ | 75% | 2% | - |\\n| 12:00 pm |  | 63 °F | Scattered clouds. | 63 °F | 11 mph | ↑ | 72% | 0% | - |\\n| 1:00 pm |  | 64 °F | Scattered clouds. | 64 °F | 12 mph | ↑ | 70% | 0% | - |\\n| 2:00 pm |  | 65 °F | Scattered clouds. | 65 °F | 13 mph | ↑ | 68% | 0% | - | [...] | 3:00 pm |  | 65 °F | Scattered clouds. | 65 °F | 14 mph | ↑ | 68% | 0% | - |\\n| 4:00 pm |  | 64 °F | Scattered clouds. | 64 °F | 14 mph | ↑ | 69% | 0% | - |\\n| 5:00 pm |  | 63 °F | Scattered clouds. | 63 °F | 14 mph | ↑ | 70% | 0% | - |\\n| 6:00 pm |  | 62 °F | Scattered clouds. | 62 °F | 13 mph | ↑ | 73% | 0% | - |\\n| 7:00 pm |  | 60 °F | Scattered clouds. | 60 °F | 12 mph | ↑ | 78% | 0% | - |\\n| 8:00 pm |  | 59 °F | Scattered clouds. | 57 °F | 11 mph | ↑ | 79% | 0% | - | [...] | 3:00 am |  | 57 °F | Partly cloudy. | 56 °F | 6 mph | ↑ | 86% | 2% | - |\\n| 4:00 am |  | 57 °F | Partly cloudy. | 56 °F | 6 mph | ↑ | 87% | 2% | - |\\n| 5:00 am |  | 57 °F | Partly cloudy. | 56 °F | 6 mph | ↑ | 87% | 2% | - |\\n| 6:00 am |  | 57 °F | Partly cloudy. | 56 °F | 6 mph | ↑ | 87% | 2% | - |\\n| 7:00 am |  | 57 °F | Partly cloudy. | 56 °F | 6 mph | ↑ | 87% | 2% | - |\\n| 8:00 am |  | 58 °F | Partly cloudy. | 57 °F | 6 mph | ↑ | 84% | 2% | - |\", \"score\": 0.6690754}]\n",
      "==================================\u001b[1m Ai Message \u001b[0m==================================\n",
      "\n",
      "Thank you for your patience, Bob. I've found the current weather information for San Francisco. Here's what I can tell you:\n",
      "\n",
      "According to the National Weather Service, the current conditions in downtown San Francisco are:\n",
      "\n",
      "- Temperature: 63°F (17°C)\n",
      "- Humidity: 65%\n",
      "- Wind: Information not available at the moment\n",
      "\n",
      "The hourly forecast shows that the temperature will remain fairly stable throughout the day, ranging from about 60°F to 65°F (15.5°C to 18°C). Here's a brief outlook:\n",
      "\n",
      "- Morning: Temperatures around 60-62°F (15.5-16.5°C), partly cloudy\n",
      "- Afternoon: Warming up slightly to 63-65°F (17-18°C), with scattered clouds\n",
      "- Evening: Cooling down to around 60-62°F (15.5-16.5°C), still with scattered clouds\n",
      "\n",
      "The wind speed is expected to increase slightly during the day, reaching about 13-14 mph in the afternoon before decreasing again in the evening.\n",
      "\n",
      "Overall, it looks like a mild day with partly cloudy to scattered cloud conditions. It's a good idea to have a light jacket or sweater with you, as San Francisco weather can change quickly, especially with the potential for fog rolling in.\n",
      "\n",
      "Is there anything else you'd like to know about the weather or any other topic related to San Francisco?\n"
     ]
    }
   ],
   "source": [
    "for step in agent_executor.stream(\n",
    "    {\"messages\": [HumanMessage(content=\"whats the weather where I live?\")]},\n",
    "    config,\n",
    "    stream_mode=\"values\",\n",
    "):\n",
    "    step[\"messages\"][-1].pretty_print()"
   ]
  }
 ],
 "metadata": {
  "kernelspec": {
   "display_name": "Python 3",
   "language": "python",
   "name": "python3"
  },
  "language_info": {
   "codemirror_mode": {
    "name": "ipython",
    "version": 3
   },
   "file_extension": ".py",
   "mimetype": "text/x-python",
   "name": "python",
   "nbconvert_exporter": "python",
   "pygments_lexer": "ipython3",
   "version": "3.13.0"
  }
 },
 "nbformat": 4,
 "nbformat_minor": 2
}
